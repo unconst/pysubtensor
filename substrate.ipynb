{
 "cells": [
  {
   "cell_type": "code",
   "execution_count": 21,
   "metadata": {},
   "outputs": [
    {
     "name": "stdout",
     "output_type": "stream",
     "text": [
      "Requirement already satisfied: substrate-interface in /Users/const/.pyenv/versions/3.7.3/lib/python3.7/site-packages (0.9.29)\n",
      "Requirement already satisfied: docker>=4.2.0 in /Users/const/.pyenv/versions/3.7.3/lib/python3.7/site-packages (from substrate-interface) (4.3.1)\n",
      "Requirement already satisfied: py-sr25519-bindings>=0.1.2 in /Users/const/.pyenv/versions/3.7.3/lib/python3.7/site-packages (from substrate-interface) (0.1.2)\n",
      "Requirement already satisfied: py-ed25519-bindings>=0.1.1 in /Users/const/.pyenv/versions/3.7.3/lib/python3.7/site-packages (from substrate-interface) (0.1.1)\n",
      "Requirement already satisfied: scalecodec>=0.10.27 in /Users/const/.pyenv/versions/3.7.3/lib/python3.7/site-packages (from substrate-interface) (0.10.28)\n",
      "Requirement already satisfied: py-bip39-bindings>=0.1.6 in /Users/const/.pyenv/versions/3.7.3/lib/python3.7/site-packages (from substrate-interface) (0.1.6)\n",
      "Requirement already satisfied: urllib3>=1.25.10 in /Users/const/.pyenv/versions/3.7.3/lib/python3.7/site-packages (from substrate-interface) (1.25.10)\n",
      "Requirement already satisfied: base58>=2.0.1 in /Users/const/.pyenv/versions/3.7.3/lib/python3.7/site-packages (from substrate-interface) (2.0.1)\n",
      "Requirement already satisfied: certifi>=2019.6.16 in /Users/const/.pyenv/versions/3.7.3/lib/python3.7/site-packages (from substrate-interface) (2020.6.20)\n",
      "Requirement already satisfied: websockets>=8.1 in /Users/const/.pyenv/versions/3.7.3/lib/python3.7/site-packages (from substrate-interface) (8.1)\n",
      "Requirement already satisfied: xxhash>=1.3.0 in /Users/const/.pyenv/versions/3.7.3/lib/python3.7/site-packages (from substrate-interface) (2.0.0)\n",
      "Requirement already satisfied: idna>=2.8 in /Users/const/.pyenv/versions/3.7.3/lib/python3.7/site-packages (from substrate-interface) (2.10)\n",
      "Requirement already satisfied: chardet>=3.0.4 in /Users/const/.pyenv/versions/3.7.3/lib/python3.7/site-packages (from substrate-interface) (3.0.4)\n",
      "Requirement already satisfied: requests>=2.24.0 in /Users/const/.pyenv/versions/3.7.3/lib/python3.7/site-packages (from substrate-interface) (2.24.0)\n",
      "Requirement already satisfied: six>=1.4.0 in /Users/const/.pyenv/versions/3.7.3/lib/python3.7/site-packages (from docker>=4.2.0->substrate-interface) (1.15.0)\n",
      "Requirement already satisfied: websocket-client>=0.32.0 in /Users/const/.pyenv/versions/3.7.3/lib/python3.7/site-packages (from docker>=4.2.0->substrate-interface) (0.57.0)\n",
      "Requirement already satisfied: more-itertools in /Users/const/.pyenv/versions/3.7.3/lib/python3.7/site-packages (from scalecodec>=0.10.27->substrate-interface) (8.6.0)\n",
      "Collecting tornado==4.5.3\n",
      "  Downloading tornado-4.5.3.tar.gz (484 kB)\n",
      "\u001b[K     |████████████████████████████████| 484 kB 473 kB/s eta 0:00:01\n",
      "\u001b[?25hBuilding wheels for collected packages: tornado\n",
      "  Building wheel for tornado (setup.py) ... \u001b[?25ldone\n",
      "\u001b[?25h  Created wheel for tornado: filename=tornado-4.5.3-cp37-cp37m-macosx_10_15_x86_64.whl size=422378 sha256=1a5675ac70af319eca0ed1d55f0de242187b0f9a327d0d2cabbcf83b49f93e5b\n",
      "  Stored in directory: /Users/const/Library/Caches/pip/wheels/a2/45/43/36ec7a893e16c1212a6b1505ded0a2d73cf8e863a0227c8e04\n",
      "Successfully built tornado\n",
      "Installing collected packages: tornado\n",
      "  Attempting uninstall: tornado\n",
      "    Found existing installation: tornado 6.0.4\n",
      "    Uninstalling tornado-6.0.4:\n",
      "      Successfully uninstalled tornado-6.0.4\n",
      "\u001b[31mERROR: After October 2020 you may experience errors when installing or updating packages. This is because pip will change the way that it resolves dependency conflicts.\n",
      "\n",
      "We recommend you use --use-feature=2020-resolver to test your packages with the new resolver before it becomes the default.\n",
      "\n",
      "notebook 6.1.4 requires tornado>=5.0, but you'll have tornado 4.5.3 which is incompatible.\u001b[0m\n",
      "Successfully installed tornado-4.5.3\n"
     ]
    }
   ],
   "source": [
    "!pip install substrate-interface"
   ]
  },
  {
   "cell_type": "code",
   "execution_count": 46,
   "metadata": {},
   "outputs": [
    {
     "name": "stdout",
     "output_type": "stream",
     "text": [
      "Current block: 0x96201d88bb4f5f63690292aa4743142f6f1c20d347ab785980362e9506862853\n"
     ]
    }
   ],
   "source": [
    "from substrateinterface import SubstrateInterface\n",
    "\n",
    "substrate = SubstrateInterface(\n",
    "        url=\"http://127.0.0.1:9933\",\n",
    "        address_type=42,\n",
    "        type_registry_preset='substrate-node-template'\n",
    "    )\n",
    "\n",
    "def current_block():\n",
    "    result = substrate.get_runtime_block()\n",
    "    current_block = result['block']['header']['parentHash']\n",
    "    return current_block\n",
    "print ('Current block:', current_block())\n"
   ]
  },
  {
   "cell_type": "code",
   "execution_count": 6,
   "metadata": {},
   "outputs": [
    {
     "name": "stdout",
     "output_type": "stream",
     "text": [
      "Alice pubkey: 0xd43593c715fdd31c61141abd04a99fd6822c8558854ccde39a5684e7a56da27d\n",
      "Alice address: 5GrwvaEF5zXb26Fz9rcQpDWS57CtERHpNehXCPcNoHGKutQY\n"
     ]
    }
   ],
   "source": [
    "from substrateinterface import Keypair\n",
    "alice_keypair = Keypair.create_from_uri('//Alice')\n",
    "print ('Alice pubkey:', alice_keypair.public_key)\n",
    "print ('Alice address:', alice_keypair.ss58_address)"
   ]
  },
  {
   "cell_type": "code",
   "execution_count": 7,
   "metadata": {},
   "outputs": [
    {
     "name": "stdout",
     "output_type": "stream",
     "text": [
      "12404\n",
      "Alice balance: 1151118.5004818426\n"
     ]
    }
   ],
   "source": [
    "def get_balance(keypair):\n",
    "    balance_info = substrate.get_runtime_state(\n",
    "        module='System',\n",
    "        storage_function='Account',\n",
    "        params=[keypair.ss58_address],\n",
    "        block_hash=current_block()\n",
    "    ).get('result')\n",
    "    return balance_info['data']['free'] / 10**12\n",
    "print ('Alice balance:', get_balance(alice_keypair))"
   ]
  },
  {
   "cell_type": "code",
   "execution_count": 8,
   "metadata": {},
   "outputs": [
    {
     "name": "stdout",
     "output_type": "stream",
     "text": [
      "12405\n",
      "12405\n",
      "Alice balance: 1151118.5004818426\n",
      "Bob balance: 1154724.504606847 \n",
      "\n",
      "Transfer: Alice -> Bob:  100.000000000001\n",
      "Wait for inclusion...\n",
      "Done. \n",
      "\n",
      "12407\n",
      "12407\n",
      "Alice balance: 1151018.5003568423\n",
      "Bob balance: 1154824.504606847 \n",
      "\n",
      "Alice dif: -100.00012500025332\n",
      "Bob dif: 100.0\n"
     ]
    }
   ],
   "source": [
    "from substrateinterface import SubstrateRequestException\n",
    "import time\n",
    "def transfer(keypair_A, keypair_B, ammount):\n",
    "    call = substrate.compose_call(\n",
    "        call_module='Balances',\n",
    "        call_function='transfer',\n",
    "        call_params={\n",
    "            'dest': keypair_B.ss58_address,\n",
    "            'value': ammount\n",
    "        }\n",
    "    )\n",
    "    extrinsic = substrate.create_signed_extrinsic(call=call, keypair=keypair_A)\n",
    "    return substrate.submit_extrinsic(extrinsic, wait_for_inclusion=False)\n",
    "    \n",
    "bob_keypair = Keypair.create_from_uri('//Bob')\n",
    "alice_balance_1 = get_balance(alice_keypair)\n",
    "bob_balance_1 = get_balance(bob_keypair)\n",
    "print ('Alice balance:', alice_balance_1)\n",
    "print ('Bob balance:', bob_balance_1, '\\n')\n",
    "amount = 100 * 10**12 + 1\n",
    "print ('Transfer: Alice -> Bob: ', amount / 10**12)\n",
    "extrinsic = transfer(alice_keypair, bob_keypair, amount)\n",
    "print ('Wait for inclusion...')\n",
    "time.sleep(15)\n",
    "print ('Done. \\n')\n",
    "alice_balance_2 = get_balance(alice_keypair)\n",
    "bob_balance_2 = get_balance(bob_keypair)\n",
    "print ('Alice balance:', alice_balance_2)\n",
    "print ('Bob balance:', bob_balance_2, '\\n')\n",
    "print ('Alice dif:', alice_balance_2 - alice_balance_1)\n",
    "print ('Bob dif:', bob_balance_2 - bob_balance_1)\n"
   ]
  },
  {
   "cell_type": "code",
   "execution_count": 9,
   "metadata": {},
   "outputs": [
    {
     "data": {
      "text/plain": [
       "{'storage_name': 'Something',\n",
       " 'storage_modifier': 'Optional',\n",
       " 'storage_fallback_scale': '0x00',\n",
       " 'storage_fallback': None,\n",
       " 'documentation': '',\n",
       " 'module_id': 'subtensormodule',\n",
       " 'module_prefix': 'SubtensorModule',\n",
       " 'module_name': 'SubtensorModule',\n",
       " 'spec_version': 1,\n",
       " 'type_key1': None,\n",
       " 'type_key2': None,\n",
       " 'type_hasher_key1': None,\n",
       " 'type_hasher_key2': None,\n",
       " 'type_value': 'u32',\n",
       " 'type_is_linked': None,\n",
       " 'type_class': 'PlainType'}"
      ]
     },
     "execution_count": 9,
     "metadata": {},
     "output_type": "execute_result"
    }
   ],
   "source": [
    "substrate.get_metadata_storage_function('SubtensorModule', 'Something')"
   ]
  },
  {
   "cell_type": "code",
   "execution_count": 10,
   "metadata": {},
   "outputs": [
    {
     "name": "stdout",
     "output_type": "stream",
     "text": [
      "Wait for inclusion...\n"
     ]
    },
    {
     "ename": "KeyboardInterrupt",
     "evalue": "",
     "output_type": "error",
     "traceback": [
      "\u001b[0;31m---------------------------------------------------------------------------\u001b[0m",
      "\u001b[0;31mKeyboardInterrupt\u001b[0m                         Traceback (most recent call last)",
      "\u001b[0;32m<ipython-input-10-41bc4cf2ea8b>\u001b[0m in \u001b[0;36m<module>\u001b[0;34m\u001b[0m\n\u001b[1;32m     11\u001b[0m     \u001b[0mprint\u001b[0m \u001b[0;34m(\u001b[0m\u001b[0;34m'Done. \\n'\u001b[0m\u001b[0;34m)\u001b[0m\u001b[0;34m\u001b[0m\u001b[0;34m\u001b[0m\u001b[0m\n\u001b[1;32m     12\u001b[0m \u001b[0;34m\u001b[0m\u001b[0m\n\u001b[0;32m---> 13\u001b[0;31m \u001b[0msetSomething\u001b[0m\u001b[0;34m(\u001b[0m\u001b[0malice_keypair\u001b[0m\u001b[0;34m,\u001b[0m \u001b[0;36m12\u001b[0m\u001b[0;34m)\u001b[0m\u001b[0;34m\u001b[0m\u001b[0;34m\u001b[0m\u001b[0m\n\u001b[0m",
      "\u001b[0;32m<ipython-input-10-41bc4cf2ea8b>\u001b[0m in \u001b[0;36msetSomething\u001b[0;34m(keypair, value)\u001b[0m\n\u001b[1;32m      8\u001b[0m     \u001b[0msubstrate\u001b[0m\u001b[0;34m.\u001b[0m\u001b[0msubmit_extrinsic\u001b[0m\u001b[0;34m(\u001b[0m\u001b[0mextrinsic\u001b[0m\u001b[0;34m,\u001b[0m \u001b[0mwait_for_inclusion\u001b[0m\u001b[0;34m=\u001b[0m\u001b[0;32mFalse\u001b[0m\u001b[0;34m)\u001b[0m\u001b[0;34m\u001b[0m\u001b[0;34m\u001b[0m\u001b[0m\n\u001b[1;32m      9\u001b[0m     \u001b[0mprint\u001b[0m \u001b[0;34m(\u001b[0m\u001b[0;34m'Wait for inclusion...'\u001b[0m\u001b[0;34m)\u001b[0m\u001b[0;34m\u001b[0m\u001b[0;34m\u001b[0m\u001b[0m\n\u001b[0;32m---> 10\u001b[0;31m     \u001b[0mtime\u001b[0m\u001b[0;34m.\u001b[0m\u001b[0msleep\u001b[0m\u001b[0;34m(\u001b[0m\u001b[0;36m15\u001b[0m\u001b[0;34m)\u001b[0m\u001b[0;34m\u001b[0m\u001b[0;34m\u001b[0m\u001b[0m\n\u001b[0m\u001b[1;32m     11\u001b[0m     \u001b[0mprint\u001b[0m \u001b[0;34m(\u001b[0m\u001b[0;34m'Done. \\n'\u001b[0m\u001b[0;34m)\u001b[0m\u001b[0;34m\u001b[0m\u001b[0;34m\u001b[0m\u001b[0m\n\u001b[1;32m     12\u001b[0m \u001b[0;34m\u001b[0m\u001b[0m\n",
      "\u001b[0;31mKeyboardInterrupt\u001b[0m: "
     ]
    }
   ],
   "source": [
    "def setSomething(keypair, value):\n",
    "    call = substrate.compose_call(\n",
    "        call_module='SubtensorModule',\n",
    "        call_function='do_something',\n",
    "        call_params={'something': value}\n",
    "    )\n",
    "    extrinsic = substrate.create_signed_extrinsic(call=call, keypair=keypair)\n",
    "    substrate.submit_extrinsic(extrinsic, wait_for_inclusion=False)\n",
    "    print ('Wait for inclusion...')\n",
    "    time.sleep(15)\n",
    "    print ('Done. \\n')\n",
    "    \n",
    "setSomething(alice_keypair, 12)"
   ]
  },
  {
   "cell_type": "code",
   "execution_count": 163,
   "metadata": {},
   "outputs": [
    {
     "name": "stdout",
     "output_type": "stream",
     "text": [
      "12\n"
     ]
    }
   ],
   "source": [
    "def getSomething():\n",
    "    result = substrate.get_runtime_state(\n",
    "        module='SubtensorModule',\n",
    "        storage_function='Something'\n",
    "    ).get('result')\n",
    "    return result\n",
    "print (getSomething())"
   ]
  },
  {
   "cell_type": "code",
   "execution_count": 26,
   "metadata": {},
   "outputs": [
    {
     "name": "stdout",
     "output_type": "stream",
     "text": [
      "{'name': 'SubtensorModule', 'prefix': 'SubtensorModule', 'storage': {'prefix': 'SubtensorModule', 'items': [{'name': 'Weights', 'modifier': 'Default', 'type': {'DoubleMapType': {'hasher': 'Blake2_128Concat', 'key1': 'AccountId', 'key2': 'AccountId', 'value': 'u32', 'key2Hasher': 'Blake2_128Concat'}}, 'fallback': '0x00000000', 'docs': []}]}, 'calls': [{'name': 'set_weights', 'args': [{'name': 'dests', 'type': 'Vec<AccountId>'}, {'name': 'values', 'type': 'Vec<u32>'}], 'docs': [' An example dispatchable that takes a singles value as a parameter, writes the value to', ' storage and emits an event. This function must be dispatched by a signed extrinsic.']}], 'events': [{'name': 'WeightsSet', 'args': ['AccountId'], 'docs': [' Event documentation should end with an array that provides descriptive names for event', ' parameters. [something, who]']}], 'constants': [], 'errors': [{'name': 'NoneValue', 'docs': [' Error names should be descriptive.']}, {'name': 'StorageOverflow', 'docs': [' Errors should have helpful documentation associated with them.']}], 'index': 8}\n"
     ]
    }
   ],
   "source": [
    "val = substrate.get_block_metadata(decode=True)\n",
    "for mod in val.metadata.modules:\n",
    "    if mod.name == \"SubtensorModule\":\n",
    "        print (mod)\n",
    "#         for stor in mod.storage.items:\n",
    "#             if stor.name == \"Weights\":\n",
    "#                 print (stor)"
   ]
  },
  {
   "cell_type": "code",
   "execution_count": 15,
   "metadata": {},
   "outputs": [
    {
     "data": {
      "text/plain": [
       "{'storage_name': 'Weights',\n",
       " 'storage_modifier': 'Default',\n",
       " 'storage_fallback_scale': '0x00000000',\n",
       " 'storage_fallback': 0,\n",
       " 'documentation': '',\n",
       " 'module_id': 'subtensormodule',\n",
       " 'module_prefix': 'SubtensorModule',\n",
       " 'module_name': 'SubtensorModule',\n",
       " 'spec_version': 1,\n",
       " 'type_key1': 'AccountId',\n",
       " 'type_key2': 'AccountId',\n",
       " 'type_hasher_key1': 'Blake2_128Concat',\n",
       " 'type_hasher_key2': None,\n",
       " 'type_value': 'u32',\n",
       " 'type_is_linked': None,\n",
       " 'type_class': 'DoubleMapType'}"
      ]
     },
     "execution_count": 15,
     "metadata": {},
     "output_type": "execute_result"
    }
   ],
   "source": [
    "substrate.get_metadata_storage_function('SubtensorModule', 'Weights')\n"
   ]
  },
  {
   "cell_type": "code",
   "execution_count": 36,
   "metadata": {},
   "outputs": [
    {
     "name": "stdout",
     "output_type": "stream",
     "text": [
      "Wait for inclusion...\n",
      "Done. \n",
      "\n",
      "123123\n"
     ]
    }
   ],
   "source": [
    "def setWeights(keypair_A, keypair_B, value):\n",
    "    call = substrate.compose_call(\n",
    "        call_module='SubtensorModule',\n",
    "        call_function='set_weights',\n",
    "        call_params={'dests': [keypair_B.public_key], 'values': [value]}\n",
    "    )\n",
    "    extrinsic = substrate.create_signed_extrinsic(call=call, keypair=keypair_A)\n",
    "    substrate.submit_extrinsic(extrinsic, wait_for_inclusion=False)\n",
    "    print ('Wait for inclusion...')\n",
    "    time.sleep(15)\n",
    "    print ('Done. \\n')\n",
    "\n",
    "alice_keypair = Keypair.create_from_uri('//Alice')\n",
    "bob_keypair = Keypair.create_from_uri('//Bob')\n",
    "value = 123123\n",
    "\n",
    "setWeights(alice_keypair, bob_keypair, value)\n",
    "\n",
    "weights = substrate.get_runtime_state(\n",
    "    module='SubtensorModule',\n",
    "    storage_function='Weights',\n",
    "    params=[alice_keypair.ss58_address, bob_keypair.ss58_address]\n",
    ")\n",
    "\n",
    "print (weights['result'])"
   ]
  },
  {
   "cell_type": "code",
   "execution_count": 47,
   "metadata": {},
   "outputs": [
    {
     "name": "stdout",
     "output_type": "stream",
     "text": [
      "None\n"
     ]
    }
   ],
   "source": [
    "weights = substrate.get_storage(\n",
    "    module='SubtensorModule',\n",
    "    function='state_getKeys',\n",
    "    block_hash=current_block()\n",
    ")\n",
    "\n",
    "print (weights)"
   ]
  },
  {
   "cell_type": "code",
   "execution_count": 39,
   "metadata": {},
   "outputs": [
    {
     "ename": "ValueError",
     "evalue": "Storage call of type \"DoubleMapType\" requires 2 parameters",
     "output_type": "error",
     "traceback": [
      "\u001b[0;31m---------------------------------------------------------------------------\u001b[0m",
      "\u001b[0;31mValueError\u001b[0m                                Traceback (most recent call last)",
      "\u001b[0;32m<ipython-input-39-8e522bb48818>\u001b[0m in \u001b[0;36m<module>\u001b[0;34m\u001b[0m\n\u001b[1;32m      1\u001b[0m weights = substrate.get_runtime_state(\n\u001b[1;32m      2\u001b[0m     \u001b[0mmodule\u001b[0m\u001b[0;34m=\u001b[0m\u001b[0;34m'SubtensorModule'\u001b[0m\u001b[0;34m,\u001b[0m\u001b[0;34m\u001b[0m\u001b[0;34m\u001b[0m\u001b[0m\n\u001b[0;32m----> 3\u001b[0;31m     \u001b[0mstorage_function\u001b[0m\u001b[0;34m=\u001b[0m\u001b[0;34m'Weights'\u001b[0m\u001b[0;34m,\u001b[0m\u001b[0;34m\u001b[0m\u001b[0;34m\u001b[0m\u001b[0m\n\u001b[0m\u001b[1;32m      4\u001b[0m     \u001b[0;31m#params=[alice_keypair.ss58_address, bob_keypair.ss58_address]\u001b[0m\u001b[0;34m\u001b[0m\u001b[0;34m\u001b[0m\u001b[0;34m\u001b[0m\u001b[0m\n\u001b[1;32m      5\u001b[0m )\n",
      "\u001b[0;32m~/.pyenv/versions/3.7.3/lib/python3.7/site-packages/substrateinterface/__init__.py\u001b[0m in \u001b[0;36mget_runtime_state\u001b[0;34m(self, module, storage_function, params, block_hash)\u001b[0m\n\u001b[1;32m    939\u001b[0m \u001b[0;34m\u001b[0m\u001b[0m\n\u001b[1;32m    940\u001b[0m                                 \u001b[0;32mif\u001b[0m \u001b[0;32mnot\u001b[0m \u001b[0mparams\u001b[0m \u001b[0;32mor\u001b[0m \u001b[0mlen\u001b[0m\u001b[0;34m(\u001b[0m\u001b[0mparams\u001b[0m\u001b[0;34m)\u001b[0m \u001b[0;34m!=\u001b[0m \u001b[0;36m2\u001b[0m\u001b[0;34m:\u001b[0m\u001b[0;34m\u001b[0m\u001b[0;34m\u001b[0m\u001b[0m\n\u001b[0;32m--> 941\u001b[0;31m                                     \u001b[0;32mraise\u001b[0m \u001b[0mValueError\u001b[0m\u001b[0;34m(\u001b[0m\u001b[0;34m'Storage call of type \"DoubleMapType\" requires 2 parameters'\u001b[0m\u001b[0;34m)\u001b[0m\u001b[0;34m\u001b[0m\u001b[0;34m\u001b[0m\u001b[0m\n\u001b[0m\u001b[1;32m    942\u001b[0m \u001b[0;34m\u001b[0m\u001b[0m\n\u001b[1;32m    943\u001b[0m                                 \u001b[0;31m# Encode parameter 1\u001b[0m\u001b[0;34m\u001b[0m\u001b[0;34m\u001b[0m\u001b[0;34m\u001b[0m\u001b[0m\n",
      "\u001b[0;31mValueError\u001b[0m: Storage call of type \"DoubleMapType\" requires 2 parameters"
     ]
    }
   ],
   "source": [
    "weights = substrate.get_runtime_state(\n",
    "    module='SubtensorModule',\n",
    "    storage_function='Weights',\n",
    "    #params=[alice_keypair.ss58_address, bob_keypair.ss58_address]\n",
    ")\n",
    "\n",
    "print (weights)"
   ]
  },
  {
   "cell_type": "code",
   "execution_count": 38,
   "metadata": {},
   "outputs": [
    {
     "ename": "ValueError",
     "evalue": "Given storage is not a map",
     "output_type": "error",
     "traceback": [
      "\u001b[0;31m---------------------------------------------------------------------------\u001b[0m",
      "\u001b[0;31mValueError\u001b[0m                                Traceback (most recent call last)",
      "\u001b[0;32m<ipython-input-38-291c331fac0f>\u001b[0m in \u001b[0;36m<module>\u001b[0;34m\u001b[0m\n\u001b[1;32m      1\u001b[0m weights = substrate.iterate_map(\n\u001b[1;32m      2\u001b[0m     \u001b[0mmodule\u001b[0m\u001b[0;34m=\u001b[0m\u001b[0;34m'SubtensorModule'\u001b[0m\u001b[0;34m,\u001b[0m\u001b[0;34m\u001b[0m\u001b[0;34m\u001b[0m\u001b[0m\n\u001b[0;32m----> 3\u001b[0;31m     \u001b[0mstorage_function\u001b[0m\u001b[0;34m=\u001b[0m\u001b[0;34m'Weights'\u001b[0m\u001b[0;34m,\u001b[0m\u001b[0;34m\u001b[0m\u001b[0;34m\u001b[0m\u001b[0m\n\u001b[0m\u001b[1;32m      4\u001b[0m )\n",
      "\u001b[0;32m~/.pyenv/versions/3.7.3/lib/python3.7/site-packages/substrateinterface/__init__.py\u001b[0m in \u001b[0;36miterate_map\u001b[0;34m(self, module, storage_function, block_hash)\u001b[0m\n\u001b[1;32m    867\u001b[0m                                     \u001b[0;32mraise\u001b[0m \u001b[0mValueError\u001b[0m\u001b[0;34m(\u001b[0m\u001b[0;34m'Unsupported hash type'\u001b[0m\u001b[0;34m)\u001b[0m\u001b[0;34m\u001b[0m\u001b[0;34m\u001b[0m\u001b[0m\n\u001b[1;32m    868\u001b[0m                             \u001b[0;32melse\u001b[0m\u001b[0;34m:\u001b[0m\u001b[0;34m\u001b[0m\u001b[0;34m\u001b[0m\u001b[0m\n\u001b[0;32m--> 869\u001b[0;31m                                 \u001b[0;32mraise\u001b[0m \u001b[0mValueError\u001b[0m\u001b[0;34m(\u001b[0m\u001b[0;34m'Given storage is not a map'\u001b[0m\u001b[0;34m)\u001b[0m\u001b[0;34m\u001b[0m\u001b[0;34m\u001b[0m\u001b[0m\n\u001b[0m\u001b[1;32m    870\u001b[0m \u001b[0;34m\u001b[0m\u001b[0m\n\u001b[1;32m    871\u001b[0m         \u001b[0mprefix\u001b[0m \u001b[0;34m=\u001b[0m \u001b[0mself\u001b[0m\u001b[0;34m.\u001b[0m\u001b[0mgenerate_storage_hash\u001b[0m\u001b[0;34m(\u001b[0m\u001b[0mmodule\u001b[0m\u001b[0;34m,\u001b[0m \u001b[0mstorage_function\u001b[0m\u001b[0;34m)\u001b[0m\u001b[0;34m\u001b[0m\u001b[0;34m\u001b[0m\u001b[0m\n",
      "\u001b[0;31mValueError\u001b[0m: Given storage is not a map"
     ]
    }
   ],
   "source": [
    "weights = substrate.iterate_map(\n",
    "    module='SubtensorModule',\n",
    "    storage_function='Weights',\n",
    ")"
   ]
  },
  {
   "cell_type": "code",
   "execution_count": 20,
   "metadata": {},
   "outputs": [
    {
     "ename": "ValueError",
     "evalue": "Value should start with \"0x\" and should be 32 bytes long",
     "output_type": "error",
     "traceback": [
      "\u001b[0;31m---------------------------------------------------------------------------\u001b[0m",
      "\u001b[0;31mValueError\u001b[0m                                Traceback (most recent call last)",
      "\u001b[0;32m<ipython-input-20-cca33ab3d773>\u001b[0m in \u001b[0;36m<module>\u001b[0;34m\u001b[0m\n\u001b[1;32m     15\u001b[0m \u001b[0mvalue\u001b[0m \u001b[0;34m=\u001b[0m \u001b[0;36m123123\u001b[0m\u001b[0;34m\u001b[0m\u001b[0;34m\u001b[0m\u001b[0m\n\u001b[1;32m     16\u001b[0m \u001b[0;34m\u001b[0m\u001b[0m\n\u001b[0;32m---> 17\u001b[0;31m \u001b[0msetWeight\u001b[0m\u001b[0;34m(\u001b[0m\u001b[0malice_keypair\u001b[0m\u001b[0;34m,\u001b[0m \u001b[0mbob_keypair\u001b[0m\u001b[0;34m,\u001b[0m \u001b[0mvalue\u001b[0m\u001b[0;34m)\u001b[0m\u001b[0;34m\u001b[0m\u001b[0;34m\u001b[0m\u001b[0m\n\u001b[0m\u001b[1;32m     18\u001b[0m \u001b[0;34m\u001b[0m\u001b[0m\n\u001b[1;32m     19\u001b[0m weights = substrate.get_runtime_state(\n",
      "\u001b[0;32m<ipython-input-20-cca33ab3d773>\u001b[0m in \u001b[0;36msetWeight\u001b[0;34m(keypair_A, keypair_B, value)\u001b[0m\n\u001b[1;32m      3\u001b[0m         \u001b[0mcall_module\u001b[0m\u001b[0;34m=\u001b[0m\u001b[0;34m'SubtensorModule'\u001b[0m\u001b[0;34m,\u001b[0m\u001b[0;34m\u001b[0m\u001b[0;34m\u001b[0m\u001b[0m\n\u001b[1;32m      4\u001b[0m         \u001b[0mcall_function\u001b[0m\u001b[0;34m=\u001b[0m\u001b[0;34m'set_weight'\u001b[0m\u001b[0;34m,\u001b[0m\u001b[0;34m\u001b[0m\u001b[0;34m\u001b[0m\u001b[0m\n\u001b[0;32m----> 5\u001b[0;31m         \u001b[0mcall_params\u001b[0m\u001b[0;34m=\u001b[0m\u001b[0;34m{\u001b[0m\u001b[0;34m'dest'\u001b[0m\u001b[0;34m:\u001b[0m \u001b[0mkeypair_B\u001b[0m\u001b[0;34m.\u001b[0m\u001b[0mss58_address\u001b[0m\u001b[0;34m,\u001b[0m \u001b[0;34m'value'\u001b[0m\u001b[0;34m:\u001b[0m \u001b[0;36m2321\u001b[0m\u001b[0;34m}\u001b[0m\u001b[0;34m\u001b[0m\u001b[0;34m\u001b[0m\u001b[0m\n\u001b[0m\u001b[1;32m      6\u001b[0m     )\n\u001b[1;32m      7\u001b[0m     \u001b[0mextrinsic\u001b[0m \u001b[0;34m=\u001b[0m \u001b[0msubstrate\u001b[0m\u001b[0;34m.\u001b[0m\u001b[0mcreate_signed_extrinsic\u001b[0m\u001b[0;34m(\u001b[0m\u001b[0mcall\u001b[0m\u001b[0;34m=\u001b[0m\u001b[0mcall\u001b[0m\u001b[0;34m,\u001b[0m \u001b[0mkeypair\u001b[0m\u001b[0;34m=\u001b[0m\u001b[0mkeypair_A\u001b[0m\u001b[0;34m)\u001b[0m\u001b[0;34m\u001b[0m\u001b[0;34m\u001b[0m\u001b[0m\n",
      "\u001b[0;32m~/.pyenv/versions/3.7.3/lib/python3.7/site-packages/substrateinterface/__init__.py\u001b[0m in \u001b[0;36mcompose_call\u001b[0;34m(self, call_module, call_function, call_params, block_hash)\u001b[0m\n\u001b[1;32m   1042\u001b[0m             \u001b[0;34m'call_module'\u001b[0m\u001b[0;34m:\u001b[0m \u001b[0mcall_module\u001b[0m\u001b[0;34m,\u001b[0m\u001b[0;34m\u001b[0m\u001b[0;34m\u001b[0m\u001b[0m\n\u001b[1;32m   1043\u001b[0m             \u001b[0;34m'call_function'\u001b[0m\u001b[0;34m:\u001b[0m \u001b[0mcall_function\u001b[0m\u001b[0;34m,\u001b[0m\u001b[0;34m\u001b[0m\u001b[0;34m\u001b[0m\u001b[0m\n\u001b[0;32m-> 1044\u001b[0;31m             \u001b[0;34m'call_args'\u001b[0m\u001b[0;34m:\u001b[0m \u001b[0mcall_params\u001b[0m\u001b[0;34m\u001b[0m\u001b[0;34m\u001b[0m\u001b[0m\n\u001b[0m\u001b[1;32m   1045\u001b[0m         })\n\u001b[1;32m   1046\u001b[0m \u001b[0;34m\u001b[0m\u001b[0m\n",
      "\u001b[0;32m~/.pyenv/versions/3.7.3/lib/python3.7/site-packages/scalecodec/base.py\u001b[0m in \u001b[0;36mencode\u001b[0;34m(self, value)\u001b[0m\n\u001b[1;32m    294\u001b[0m     \u001b[0;32mdef\u001b[0m \u001b[0mencode\u001b[0m\u001b[0;34m(\u001b[0m\u001b[0mself\u001b[0m\u001b[0;34m,\u001b[0m \u001b[0mvalue\u001b[0m\u001b[0;34m)\u001b[0m\u001b[0;34m:\u001b[0m\u001b[0;34m\u001b[0m\u001b[0;34m\u001b[0m\u001b[0m\n\u001b[1;32m    295\u001b[0m         \u001b[0mself\u001b[0m\u001b[0;34m.\u001b[0m\u001b[0mvalue\u001b[0m \u001b[0;34m=\u001b[0m \u001b[0mvalue\u001b[0m\u001b[0;34m\u001b[0m\u001b[0;34m\u001b[0m\u001b[0m\n\u001b[0;32m--> 296\u001b[0;31m         \u001b[0mself\u001b[0m\u001b[0;34m.\u001b[0m\u001b[0mdata\u001b[0m \u001b[0;34m=\u001b[0m \u001b[0mself\u001b[0m\u001b[0;34m.\u001b[0m\u001b[0mprocess_encode\u001b[0m\u001b[0;34m(\u001b[0m\u001b[0mvalue\u001b[0m\u001b[0;34m)\u001b[0m\u001b[0;34m\u001b[0m\u001b[0;34m\u001b[0m\u001b[0m\n\u001b[0m\u001b[1;32m    297\u001b[0m         \u001b[0;32mreturn\u001b[0m \u001b[0mself\u001b[0m\u001b[0;34m.\u001b[0m\u001b[0mdata\u001b[0m\u001b[0;34m\u001b[0m\u001b[0;34m\u001b[0m\u001b[0m\n\u001b[1;32m    298\u001b[0m \u001b[0;34m\u001b[0m\u001b[0m\n",
      "\u001b[0;32m~/.pyenv/versions/3.7.3/lib/python3.7/site-packages/scalecodec/types.py\u001b[0m in \u001b[0;36mprocess_encode\u001b[0;34m(self, value)\u001b[0m\n\u001b[1;32m   1270\u001b[0m \u001b[0;34m\u001b[0m\u001b[0m\n\u001b[1;32m   1271\u001b[0m                     \u001b[0marg_obj\u001b[0m \u001b[0;34m=\u001b[0m \u001b[0mself\u001b[0m\u001b[0;34m.\u001b[0m\u001b[0mget_decoder_class\u001b[0m\u001b[0;34m(\u001b[0m\u001b[0marg\u001b[0m\u001b[0;34m.\u001b[0m\u001b[0mtype\u001b[0m\u001b[0;34m,\u001b[0m \u001b[0mmetadata\u001b[0m\u001b[0;34m=\u001b[0m\u001b[0mself\u001b[0m\u001b[0;34m.\u001b[0m\u001b[0mmetadata\u001b[0m\u001b[0;34m)\u001b[0m\u001b[0;34m\u001b[0m\u001b[0;34m\u001b[0m\u001b[0m\n\u001b[0;32m-> 1272\u001b[0;31m                     \u001b[0mdata\u001b[0m \u001b[0;34m+=\u001b[0m \u001b[0marg_obj\u001b[0m\u001b[0;34m.\u001b[0m\u001b[0mencode\u001b[0m\u001b[0;34m(\u001b[0m\u001b[0mparam_value\u001b[0m\u001b[0;34m)\u001b[0m\u001b[0;34m\u001b[0m\u001b[0;34m\u001b[0m\u001b[0m\n\u001b[0m\u001b[1;32m   1273\u001b[0m         \u001b[0;32mreturn\u001b[0m \u001b[0mdata\u001b[0m\u001b[0;34m\u001b[0m\u001b[0;34m\u001b[0m\u001b[0m\n\u001b[1;32m   1274\u001b[0m \u001b[0;34m\u001b[0m\u001b[0m\n",
      "\u001b[0;32m~/.pyenv/versions/3.7.3/lib/python3.7/site-packages/scalecodec/base.py\u001b[0m in \u001b[0;36mencode\u001b[0;34m(self, value)\u001b[0m\n\u001b[1;32m    294\u001b[0m     \u001b[0;32mdef\u001b[0m \u001b[0mencode\u001b[0m\u001b[0;34m(\u001b[0m\u001b[0mself\u001b[0m\u001b[0;34m,\u001b[0m \u001b[0mvalue\u001b[0m\u001b[0;34m)\u001b[0m\u001b[0;34m:\u001b[0m\u001b[0;34m\u001b[0m\u001b[0;34m\u001b[0m\u001b[0m\n\u001b[1;32m    295\u001b[0m         \u001b[0mself\u001b[0m\u001b[0;34m.\u001b[0m\u001b[0mvalue\u001b[0m \u001b[0;34m=\u001b[0m \u001b[0mvalue\u001b[0m\u001b[0;34m\u001b[0m\u001b[0;34m\u001b[0m\u001b[0m\n\u001b[0;32m--> 296\u001b[0;31m         \u001b[0mself\u001b[0m\u001b[0;34m.\u001b[0m\u001b[0mdata\u001b[0m \u001b[0;34m=\u001b[0m \u001b[0mself\u001b[0m\u001b[0;34m.\u001b[0m\u001b[0mprocess_encode\u001b[0m\u001b[0;34m(\u001b[0m\u001b[0mvalue\u001b[0m\u001b[0;34m)\u001b[0m\u001b[0;34m\u001b[0m\u001b[0;34m\u001b[0m\u001b[0m\n\u001b[0m\u001b[1;32m    297\u001b[0m         \u001b[0;32mreturn\u001b[0m \u001b[0mself\u001b[0m\u001b[0;34m.\u001b[0m\u001b[0mdata\u001b[0m\u001b[0;34m\u001b[0m\u001b[0;34m\u001b[0m\u001b[0m\n\u001b[1;32m    298\u001b[0m \u001b[0;34m\u001b[0m\u001b[0m\n",
      "\u001b[0;32m~/.pyenv/versions/3.7.3/lib/python3.7/site-packages/scalecodec/types.py\u001b[0m in \u001b[0;36mprocess_encode\u001b[0;34m(self, value)\u001b[0m\n\u001b[1;32m    750\u001b[0m             \u001b[0mself\u001b[0m\u001b[0;34m.\u001b[0m\u001b[0mss58_address\u001b[0m \u001b[0;34m=\u001b[0m \u001b[0mvalue\u001b[0m\u001b[0;34m\u001b[0m\u001b[0;34m\u001b[0m\u001b[0m\n\u001b[1;32m    751\u001b[0m             \u001b[0mvalue\u001b[0m \u001b[0;34m=\u001b[0m \u001b[0;34m'0x{}'\u001b[0m\u001b[0;34m.\u001b[0m\u001b[0mformat\u001b[0m\u001b[0;34m(\u001b[0m\u001b[0mss58_decode\u001b[0m\u001b[0;34m(\u001b[0m\u001b[0mvalue\u001b[0m\u001b[0;34m)\u001b[0m\u001b[0;34m)\u001b[0m\u001b[0;34m\u001b[0m\u001b[0;34m\u001b[0m\u001b[0m\n\u001b[0;32m--> 752\u001b[0;31m         \u001b[0;32mreturn\u001b[0m \u001b[0msuper\u001b[0m\u001b[0;34m(\u001b[0m\u001b[0;34m)\u001b[0m\u001b[0;34m.\u001b[0m\u001b[0mprocess_encode\u001b[0m\u001b[0;34m(\u001b[0m\u001b[0mvalue\u001b[0m\u001b[0;34m)\u001b[0m\u001b[0;34m\u001b[0m\u001b[0;34m\u001b[0m\u001b[0m\n\u001b[0m\u001b[1;32m    753\u001b[0m \u001b[0;34m\u001b[0m\u001b[0m\n\u001b[1;32m    754\u001b[0m \u001b[0;34m\u001b[0m\u001b[0m\n",
      "\u001b[0;32m~/.pyenv/versions/3.7.3/lib/python3.7/site-packages/scalecodec/types.py\u001b[0m in \u001b[0;36mprocess_encode\u001b[0;34m(self, value)\u001b[0m\n\u001b[1;32m    401\u001b[0m     \u001b[0;32mdef\u001b[0m \u001b[0mprocess_encode\u001b[0m\u001b[0;34m(\u001b[0m\u001b[0mself\u001b[0m\u001b[0;34m,\u001b[0m \u001b[0mvalue\u001b[0m\u001b[0;34m)\u001b[0m\u001b[0;34m:\u001b[0m\u001b[0;34m\u001b[0m\u001b[0;34m\u001b[0m\u001b[0m\n\u001b[1;32m    402\u001b[0m         \u001b[0;32mif\u001b[0m \u001b[0mvalue\u001b[0m\u001b[0;34m[\u001b[0m\u001b[0;36m0\u001b[0m\u001b[0;34m:\u001b[0m\u001b[0;36m2\u001b[0m\u001b[0;34m]\u001b[0m \u001b[0;34m!=\u001b[0m \u001b[0;34m'0x'\u001b[0m \u001b[0;32mor\u001b[0m \u001b[0mlen\u001b[0m\u001b[0;34m(\u001b[0m\u001b[0mvalue\u001b[0m\u001b[0;34m)\u001b[0m \u001b[0;34m!=\u001b[0m \u001b[0;36m66\u001b[0m\u001b[0;34m:\u001b[0m\u001b[0;34m\u001b[0m\u001b[0;34m\u001b[0m\u001b[0m\n\u001b[0;32m--> 403\u001b[0;31m             \u001b[0;32mraise\u001b[0m \u001b[0mValueError\u001b[0m\u001b[0;34m(\u001b[0m\u001b[0;34m'Value should start with \"0x\" and should be 32 bytes long'\u001b[0m\u001b[0;34m)\u001b[0m\u001b[0;34m\u001b[0m\u001b[0;34m\u001b[0m\u001b[0m\n\u001b[0m\u001b[1;32m    404\u001b[0m         \u001b[0;32mreturn\u001b[0m \u001b[0mScaleBytes\u001b[0m\u001b[0;34m(\u001b[0m\u001b[0mvalue\u001b[0m\u001b[0;34m)\u001b[0m\u001b[0;34m\u001b[0m\u001b[0;34m\u001b[0m\u001b[0m\n\u001b[1;32m    405\u001b[0m \u001b[0;34m\u001b[0m\u001b[0m\n",
      "\u001b[0;31mValueError\u001b[0m: Value should start with \"0x\" and should be 32 bytes long"
     ]
    }
   ],
   "source": [
    "\n",
    "def setWeight(keypair_A, keypair_B, value):\n",
    "    call = substrate.compose_call(\n",
    "        call_module='SubtensorModule',\n",
    "        call_function='set_weight',\n",
    "        call_params={'dest': keypair_B.ss58_address, 'value': 2321}\n",
    "    )\n",
    "    extrinsic = substrate.create_signed_extrinsic(call=call, keypair=keypair_A)\n",
    "    substrate.submit_extrinsic(extrinsic, wait_for_inclusion=False)\n",
    "    print ('Wait for inclusion...')\n",
    "    time.sleep(15)\n",
    "    print ('Done. \\n')\n",
    "\n",
    "alice_keypair = Keypair.create_from_uri('//Alice')\n",
    "bob_keypair = Keypair.create_from_uri('//Bob')\n",
    "value = 123123\n",
    "\n",
    "setWeight(alice_keypair, bob_keypair, value)\n",
    "\n",
    "weights = substrate.get_runtime_state(\n",
    "    module='SubtensorModule',\n",
    "    storage_function='Weights',\n",
    "    params=[alice_keypair.ss58_address, bob_keypair.ss58_address]\n",
    ")\n",
    "\n",
    "assert weights['result'] == value"
   ]
  },
  {
   "cell_type": "code",
   "execution_count": null,
   "metadata": {},
   "outputs": [],
   "source": []
  }
 ],
 "metadata": {
  "kernelspec": {
   "display_name": "Python 3",
   "language": "python",
   "name": "python3"
  },
  "language_info": {
   "codemirror_mode": {
    "name": "ipython",
    "version": 3
   },
   "file_extension": ".py",
   "mimetype": "text/x-python",
   "name": "python",
   "nbconvert_exporter": "python",
   "pygments_lexer": "ipython3",
   "version": "3.7.3"
  }
 },
 "nbformat": 4,
 "nbformat_minor": 4
}
